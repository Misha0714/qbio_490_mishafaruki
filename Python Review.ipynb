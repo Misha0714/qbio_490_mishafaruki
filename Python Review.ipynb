{
 "cells": [
  {
   "cell_type": "code",
   "execution_count": 6,
   "id": "550b861d-8ab1-471e-bdaa-ecda4a17d278",
   "metadata": {},
   "outputs": [
    {
     "name": "stdout",
     "output_type": "stream",
     "text": [
      "Checking that ccrcc index is up-to-date...\r"
     ]
    },
    {
     "name": "stderr",
     "output_type": "stream",
     "text": [
      "cptac warning: Your version of cptac (1.1.2) is out-of-date. Latest is 1.5.13. Please run 'pip install --upgrade cptac' to update it. (/Users/mishafaruki/miniconda3/envs/qbio_490_mishafaruki/lib/python3.9/threading.py, line 917)\n"
     ]
    },
    {
     "name": "stdout",
     "output_type": "stream",
     "text": [
      "Below are the dataframes contained in this dataset and their dimensions:\n",
      "\n",
      "clinical\n",
      "\t194 rows\n",
      "\t171 columns\n",
      "CNV\n",
      "\t110 rows\n",
      "\t19285 columns\n",
      "followup\n",
      "\t352 rows\n",
      "\t27 columns\n",
      "medical_history\n",
      "\t370 rows\n",
      "\t4 columns\n",
      "methylation\n",
      "\t107 rows\n",
      "\t15885 columns\n",
      "phosphoproteomics\n",
      "\t194 rows\n",
      "\t81550 columns\n",
      "phosphoproteomics_gene\n",
      "\t194 rows\n",
      "\t6127 columns\n",
      "proteomics\n",
      "\t194 rows\n",
      "\t11710 columns\n",
      "somatic_mutation\n",
      "\t8350 rows\n",
      "\t3 columns\n",
      "transcriptomics\n",
      "\t185 rows\n",
      "\t19275 columns\n"
     ]
    }
   ],
   "source": [
    "import numpy as np \n",
    "import pandas as pd \n",
    "import seaborn as sb \n",
    "import matplotlib.pyplot as plt\n",
    "from sklearn.neighbors import KNeighborsClassifier # default number of neighbors looked at is 5\n",
    "from sklearn.tree import DecisionTreeClassifier\n",
    "from sklearn.neural_network import MLPClassifier\n",
    "from sklearn.naive_bayes import GaussianNB\n",
    "from sklearn.preprocessing import StandardScaler\n",
    "from umap import UMAP\n",
    "from sklearn.model_selection import train_test_split\n",
    "from sklearn.preprocessing import StandardScaler, LabelEncoder\n",
    "from sklearn.neighbors import KNeighborsClassifier\n",
    "from sklearn.tree import DecisionTreeClassifier\n",
    "from sklearn.neural_network import MLPClassifier\n",
    "from sklearn.naive_bayes import GaussianNB\n",
    "from sklearn.metrics import accuracy_score \n",
    "import os \n",
    "\n",
    "#getting the data \n",
    "os.chdir('/Users/mishafaruki/Desktop/QBIO490/qbio_490_mishafaruki/analysis_data')\n",
    "\n",
    "import cptac\n",
    "#downloading \n",
    "cptac.download(dataset='Ccrcc')\n",
    "ccrcc = cptac.Ccrcc()\n",
    "ccrcc.list_data()"
   ]
  },
  {
   "cell_type": "code",
   "execution_count": 9,
   "id": "89313081-fd88-42b6-bf49-2ffc75d288a8",
   "metadata": {},
   "outputs": [],
   "source": [
    "#Get the data you want \n",
    "clinical_data = ccrcc.get_clinical()\n",
    "protein_data = ccrcc.get_proteomics()\n",
    "rna_data = ccrcc.get_transcriptomics()"
   ]
  },
  {
   "cell_type": "code",
   "execution_count": 10,
   "id": "700882de-7c18-40ed-847c-90c584529471",
   "metadata": {},
   "outputs": [],
   "source": [
    "#extract data from stage i and stage iii \n",
    "stage_i_patients = clinical_data[clinical_data['tumor_stage_pathological'] == 'Stage I'].index\n",
    "stage_iii_patients = clinical_data[clinical_data['tumor_stage_pathological'] == 'Stage III'].index"
   ]
  },
  {
   "cell_type": "code",
   "execution_count": 11,
   "id": "4887189f-4881-43f8-86e5-0a9f9dc6a35b",
   "metadata": {},
   "outputs": [],
   "source": [
    "#protein\n",
    "mean_stage_i_protein = protein_data.loc[stage_i_patients].mean()\n",
    "mean_stage_iii_protein = protein_data.loc[stage_iii_patients].mean()\n",
    "differential_expression_protein = mean_stage_iii_protein - mean_stage_i_protein\n",
    "top_5_proteins = differential_expression_protein.abs().nlargest(5).index"
   ]
  },
  {
   "cell_type": "code",
   "execution_count": 12,
   "id": "9b024fa9-661c-48a0-a224-6c61d809c52b",
   "metadata": {},
   "outputs": [],
   "source": [
    "#rna \n",
    "rna_data_log = np.log2(rna_data+1) \n",
    "mean_stage_i_rna = rna_data_log.loc[stage_i_patients].mean()\n",
    "mean_stage_iii_rna = rna_data_log.loc[stage_iii_patients].mean()\n",
    "differential_expression_rna = mean_stage_iii_rna - mean_stage_i_rna\n",
    "top_5_rna = differential_expression_rna.abs().nlargest(5).index "
   ]
  },
  {
   "cell_type": "code",
   "execution_count": 18,
   "id": "e80fa1b4-7458-4289-af00-7c17b266a174",
   "metadata": {},
   "outputs": [],
   "source": [
    "#selected features \n",
    "selected_features = pd.concat([protein_data[top_5_proteins], rna_data_log[top_5_rna]], axis=1)\n",
    "selected_features.columns = selected_features.columns.astype(str)\n",
    "cancer_stages = clinical_data['tumor_stage_pathological']\n",
    "\n",
    "scaler = StandardScaler()\n",
    "selected_features = selected_features.iloc[:, 5:]\n",
    "patient_mask = selected_features.iloc[:, :].isna().sum(axis=1)==0\n",
    "selected_features = selected_features.loc[patient_mask, :]\n",
    "cancer_stages = cancer_stages.loc[patient_mask]\n",
    "\n",
    "cancer_mask = cancer_stages.isna()\n",
    "cancer_stages = cancer_stages.dropna()\n",
    "selected_features = selected_features.loc[~cancer_mask, :]\n",
    "\n",
    "selected_features_scaled = scaler.fit_transform(selected_features)\n",
    "encoder = LabelEncoder()\n",
    "cancer_stages_encoded = encoder.fit_transform(cancer_stages)"
   ]
  },
  {
   "cell_type": "code",
   "execution_count": 21,
   "id": "241058d0-e07e-43b9-8276-c4d2532375b6",
   "metadata": {},
   "outputs": [],
   "source": [
    "Xtrain, Xtest, ytrain, ytest = train_test_split(selected_features_scaled, cancer_stages_encoded, train_size=0.7)\n",
    "Xtrain = pd.DataFrame(Xtrain, columns=selected_features.columns).dropna()\n",
    "ytrain = ytrain[Xtrain.index] "
   ]
  },
  {
   "cell_type": "code",
   "execution_count": 22,
   "id": "f76fd711-ed67-4b0d-a551-c0a2aad154cd",
   "metadata": {},
   "outputs": [
    {
     "name": "stdout",
     "output_type": "stream",
     "text": [
      "Mean accuracies: {'KNeighborsClassifier': 0.4242424242424242, 'DecisionTreeClassifier': 0.3484848484848485, 'MLPClassifier': 0.4, 'GaussianNB': 0.4545454545454545}\n",
      "Best model: GaussianNB\n"
     ]
    }
   ],
   "source": [
    "import warnings\n",
    "warnings.filterwarnings('ignore')\n",
    "\n",
    "models = {\n",
    "    \"KNeighborsClassifier\": KNeighborsClassifier(),\n",
    "    \"DecisionTreeClassifier\": DecisionTreeClassifier(),\n",
    "    \"MLPClassifier\": MLPClassifier(),\n",
    "    \"GaussianNB\": GaussianNB()\n",
    "}\n",
    "\n",
    "runs = 10\n",
    "accuracies = {model_name: [] for model_name in models.keys()}\n",
    "\n",
    "for _ in range(runs):\n",
    "    for model_name, model in models.items():\n",
    "        model.fit(Xtrain, ytrain)\n",
    "        ypred = model.predict(Xtest)\n",
    "        accuracy = accuracy_score(ytest, ypred)\n",
    "        accuracies[model_name].append(accuracy)\n",
    "\n",
    "mean_accuracies = {model_name: np.mean(accuracy_list) for model_name, accuracy_list in accuracies.items()}\n",
    "best_model = max(mean_accuracies, key=mean_accuracies.get)\n",
    "\n",
    "print(\"Mean accuracies:\", mean_accuracies)\n",
    "print(\"Best model:\", best_model)"
   ]
  }
 ],
 "metadata": {
  "kernelspec": {
   "display_name": "Python 3 (ipykernel)",
   "language": "python",
   "name": "python3"
  },
  "language_info": {
   "codemirror_mode": {
    "name": "ipython",
    "version": 3
   },
   "file_extension": ".py",
   "mimetype": "text/x-python",
   "name": "python",
   "nbconvert_exporter": "python",
   "pygments_lexer": "ipython3",
   "version": "3.9.18"
  }
 },
 "nbformat": 4,
 "nbformat_minor": 5
}
